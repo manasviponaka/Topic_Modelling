{
 "cells": [
  {
   "attachments": {},
   "cell_type": "markdown",
   "metadata": {},
   "source": [
    "LDA\n",
    "data: A Million News Headlines"
   ]
  },
  {
   "cell_type": "code",
   "execution_count": 40,
   "metadata": {},
   "outputs": [],
   "source": [
    "import zipfile\n",
    "import pandas as pd\n",
    "import os\n"
   ]
  },
  {
   "attachments": {},
   "cell_type": "markdown",
   "metadata": {},
   "source": [
    "Loading data"
   ]
  },
  {
   "cell_type": "code",
   "execution_count": 41,
   "metadata": {},
   "outputs": [
    {
     "name": "stderr",
     "output_type": "stream",
     "text": [
      "d:\\Programs\\Python\\Python39\\lib\\site-packages\\IPython\\core\\interactiveshell.py:3444: FutureWarning: The error_bad_lines argument has been deprecated and will be removed in a future version.\n",
      "\n",
      "\n",
      "  exec(code_obj, self.user_global_ns, self.user_ns)\n"
     ]
    }
   ],
   "source": [
    "data = pd.read_csv('D:/ds/ds/S3/NLP_LDA/data/abcnews-date-text.csv', error_bad_lines=False, parse_dates=['publish_date'])\n",
    "data = data.rename(columns={'publish_date':'date','headline_text':'text'})\n",
    "data = data.groupby(['date'], as_index = False).agg({'text': ' '.join})\n",
    "data = data.drop_duplicates()\n",
    "data.head(3)\n",
    "#Sorting And Feature Engineering\n",
    "data['year']         = pd.DatetimeIndex(data['date']).year\n",
    "data['month']        = pd.DatetimeIndex(data['date']).month\n",
    "data['day']          = pd.DatetimeIndex(data['date']).day\n",
    "yearly = data.groupby(['year'], as_index = False).agg({'text': ' '.join})\n",
    "monthly = data.groupby(['month'], as_index = False).agg({'text': ' '.join})"
   ]
  },
  {
   "cell_type": "code",
   "execution_count": 42,
   "metadata": {},
   "outputs": [
    {
     "data": {
      "text/html": [
       "<div>\n",
       "<style scoped>\n",
       "    .dataframe tbody tr th:only-of-type {\n",
       "        vertical-align: middle;\n",
       "    }\n",
       "\n",
       "    .dataframe tbody tr th {\n",
       "        vertical-align: top;\n",
       "    }\n",
       "\n",
       "    .dataframe thead th {\n",
       "        text-align: right;\n",
       "    }\n",
       "</style>\n",
       "<table border=\"1\" class=\"dataframe\">\n",
       "  <thead>\n",
       "    <tr style=\"text-align: right;\">\n",
       "      <th></th>\n",
       "      <th>date</th>\n",
       "      <th>text</th>\n",
       "      <th>year</th>\n",
       "      <th>month</th>\n",
       "      <th>day</th>\n",
       "    </tr>\n",
       "  </thead>\n",
       "  <tbody>\n",
       "    <tr>\n",
       "      <th>0</th>\n",
       "      <td>2003-02-19</td>\n",
       "      <td>aba decides against community broadcasting lic...</td>\n",
       "      <td>2003</td>\n",
       "      <td>2</td>\n",
       "      <td>19</td>\n",
       "    </tr>\n",
       "    <tr>\n",
       "      <th>1</th>\n",
       "      <td>2003-02-20</td>\n",
       "      <td>15 dead in rebel bombing raid philippines army...</td>\n",
       "      <td>2003</td>\n",
       "      <td>2</td>\n",
       "      <td>20</td>\n",
       "    </tr>\n",
       "    <tr>\n",
       "      <th>2</th>\n",
       "      <td>2003-02-21</td>\n",
       "      <td>accc too timid in petrol price investigations ...</td>\n",
       "      <td>2003</td>\n",
       "      <td>2</td>\n",
       "      <td>21</td>\n",
       "    </tr>\n",
       "    <tr>\n",
       "      <th>3</th>\n",
       "      <td>2003-02-22</td>\n",
       "      <td>86 confirmed dead after us nightclub fire act ...</td>\n",
       "      <td>2003</td>\n",
       "      <td>2</td>\n",
       "      <td>22</td>\n",
       "    </tr>\n",
       "    <tr>\n",
       "      <th>4</th>\n",
       "      <td>2003-02-23</td>\n",
       "      <td>accused people smuggler to face darwin court a...</td>\n",
       "      <td>2003</td>\n",
       "      <td>2</td>\n",
       "      <td>23</td>\n",
       "    </tr>\n",
       "  </tbody>\n",
       "</table>\n",
       "</div>"
      ],
      "text/plain": [
       "        date                                               text  year  month  \\\n",
       "0 2003-02-19  aba decides against community broadcasting lic...  2003      2   \n",
       "1 2003-02-20  15 dead in rebel bombing raid philippines army...  2003      2   \n",
       "2 2003-02-21  accc too timid in petrol price investigations ...  2003      2   \n",
       "3 2003-02-22  86 confirmed dead after us nightclub fire act ...  2003      2   \n",
       "4 2003-02-23  accused people smuggler to face darwin court a...  2003      2   \n",
       "\n",
       "   day  \n",
       "0   19  \n",
       "1   20  \n",
       "2   21  \n",
       "3   22  \n",
       "4   23  "
      ]
     },
     "execution_count": 42,
     "metadata": {},
     "output_type": "execute_result"
    }
   ],
   "source": [
    "data.head()"
   ]
  },
  {
   "cell_type": "code",
   "execution_count": 43,
   "metadata": {},
   "outputs": [
    {
     "name": "stderr",
     "output_type": "stream",
     "text": [
      "C:\\Users\\wang\\AppData\\Local\\Temp/ipykernel_11812/3646488573.py:3: SettingWithCopyWarning: \n",
      "A value is trying to be set on a copy of a slice from a DataFrame.\n",
      "Try using .loc[row_indexer,col_indexer] = value instead\n",
      "\n",
      "See the caveats in the documentation: https://pandas.pydata.org/pandas-docs/stable/user_guide/indexing.html#returning-a-view-versus-a-copy\n",
      "  data_text['index'] = data_text.index\n"
     ]
    },
    {
     "data": {
      "text/html": [
       "<div>\n",
       "<style scoped>\n",
       "    .dataframe tbody tr th:only-of-type {\n",
       "        vertical-align: middle;\n",
       "    }\n",
       "\n",
       "    .dataframe tbody tr th {\n",
       "        vertical-align: top;\n",
       "    }\n",
       "\n",
       "    .dataframe thead th {\n",
       "        text-align: right;\n",
       "    }\n",
       "</style>\n",
       "<table border=\"1\" class=\"dataframe\">\n",
       "  <thead>\n",
       "    <tr style=\"text-align: right;\">\n",
       "      <th></th>\n",
       "      <th>text</th>\n",
       "      <th>index</th>\n",
       "    </tr>\n",
       "  </thead>\n",
       "  <tbody>\n",
       "    <tr>\n",
       "      <th>5787</th>\n",
       "      <td>after expo ministers approved an artificial is...</td>\n",
       "      <td>5787</td>\n",
       "    </tr>\n",
       "    <tr>\n",
       "      <th>5788</th>\n",
       "      <td>adelaide man arrested over police officer hit ...</td>\n",
       "      <td>5788</td>\n",
       "    </tr>\n",
       "    <tr>\n",
       "      <th>5789</th>\n",
       "      <td>adapt potentially fatal impulse to rescue some...</td>\n",
       "      <td>5789</td>\n",
       "    </tr>\n",
       "    <tr>\n",
       "      <th>5790</th>\n",
       "      <td>alexandria ocasio cortez dancing video viral s...</td>\n",
       "      <td>5790</td>\n",
       "    </tr>\n",
       "    <tr>\n",
       "      <th>5791</th>\n",
       "      <td>1960s amphicar designed to run on road and wat...</td>\n",
       "      <td>5791</td>\n",
       "    </tr>\n",
       "  </tbody>\n",
       "</table>\n",
       "</div>"
      ],
      "text/plain": [
       "                                                   text  index\n",
       "5787  after expo ministers approved an artificial is...   5787\n",
       "5788  adelaide man arrested over police officer hit ...   5788\n",
       "5789  adapt potentially fatal impulse to rescue some...   5789\n",
       "5790  alexandria ocasio cortez dancing video viral s...   5790\n",
       "5791  1960s amphicar designed to run on road and wat...   5791"
      ]
     },
     "execution_count": 43,
     "metadata": {},
     "output_type": "execute_result"
    }
   ],
   "source": [
    "data_date = data.loc[(data.year >= 2019)&(data.year <= 2021)]\n",
    "data_text = data_date[['text']]\n",
    "data_text['index'] = data_text.index\n",
    "papers = data_text\n",
    "\n",
    "# Print head\n",
    "data_text.head()"
   ]
  },
  {
   "cell_type": "code",
   "execution_count": 44,
   "metadata": {},
   "outputs": [
    {
     "name": "stdout",
     "output_type": "stream",
     "text": [
      "<class 'pandas.core.frame.DataFrame'>\n",
      "Int64Index: 1095 entries, 5787 to 6881\n",
      "Data columns (total 2 columns):\n",
      " #   Column  Non-Null Count  Dtype \n",
      "---  ------  --------------  ----- \n",
      " 0   text    1095 non-null   object\n",
      " 1   index   1095 non-null   int64 \n",
      "dtypes: int64(1), object(1)\n",
      "memory usage: 25.7+ KB\n"
     ]
    }
   ],
   "source": [
    "papers.info()"
   ]
  },
  {
   "attachments": {},
   "cell_type": "markdown",
   "metadata": {},
   "source": [
    "Data Processing"
   ]
  },
  {
   "cell_type": "code",
   "execution_count": 45,
   "metadata": {},
   "outputs": [
    {
     "name": "stderr",
     "output_type": "stream",
     "text": [
      "C:\\Users\\wang\\AppData\\Local\\Temp/ipykernel_11812/3827190673.py:5: SettingWithCopyWarning: \n",
      "A value is trying to be set on a copy of a slice from a DataFrame.\n",
      "Try using .loc[row_indexer,col_indexer] = value instead\n",
      "\n",
      "See the caveats in the documentation: https://pandas.pydata.org/pandas-docs/stable/user_guide/indexing.html#returning-a-view-versus-a-copy\n",
      "  papers['headline_text_processed'] = papers['text'].map(lambda x: re.sub('[,\\.!?]', '', x))\n",
      "C:\\Users\\wang\\AppData\\Local\\Temp/ipykernel_11812/3827190673.py:8: SettingWithCopyWarning: \n",
      "A value is trying to be set on a copy of a slice from a DataFrame.\n",
      "Try using .loc[row_indexer,col_indexer] = value instead\n",
      "\n",
      "See the caveats in the documentation: https://pandas.pydata.org/pandas-docs/stable/user_guide/indexing.html#returning-a-view-versus-a-copy\n",
      "  papers['pheadline_text_processed'] = papers['headline_text_processed'].map(lambda x: x.lower())\n"
     ]
    },
    {
     "data": {
      "text/plain": [
       "5787    after expo ministers approved an artificial is...\n",
       "5788    adelaide man arrested over police officer hit ...\n",
       "5789    adapt potentially fatal impulse to rescue some...\n",
       "5790    alexandria ocasio cortez dancing video viral s...\n",
       "5791    1960s amphicar designed to run on road and wat...\n",
       "Name: headline_text_processed, dtype: object"
      ]
     },
     "execution_count": 45,
     "metadata": {},
     "output_type": "execute_result"
    }
   ],
   "source": [
    "# Load the regular expression library\n",
    "import re\n",
    "\n",
    "# Remove punctuation\n",
    "papers['headline_text_processed'] = papers['text'].map(lambda x: re.sub('[,\\.!?]', '', x))\n",
    "\n",
    "# Convert the titles to lowercase\n",
    "papers['pheadline_text_processed'] = papers['headline_text_processed'].map(lambda x: x.lower())\n",
    "\n",
    "# Print out the first rows of papers\n",
    "papers['headline_text_processed'].head()"
   ]
  },
  {
   "attachments": {},
   "cell_type": "markdown",
   "metadata": {},
   "source": [
    "\n",
    "Step 2: Data Cleaning"
   ]
  },
  {
   "cell_type": "code",
   "execution_count": 46,
   "metadata": {},
   "outputs": [
    {
     "name": "stdout",
     "output_type": "stream",
     "text": [
      "['after', 'expo', 'ministers', 'approved', 'an', 'artificial', 'island', 'alyssa', 'healy', 'named', 'worlds', 'best', 'womens', 'player', 'for', 'australia', 'called', 'free', 'rider', 'on', 'tackling', 'climate', 'change', 'howard', 'australia', 'still', 'has', 'no', 'us', 'ambassador']\n"
     ]
    }
   ],
   "source": [
    "import gensim\n",
    "from gensim.utils import simple_preprocess\n",
    "\n",
    "def sent_to_words(sentences):\n",
    "    for sentence in sentences:\n",
    "        yield(gensim.utils.simple_preprocess(str(sentence), deacc=True))  # deacc=True removes punctuations\n",
    "\n",
    "data = papers.headline_text_processed.values.tolist()\n",
    "data_words = list(sent_to_words(data))\n",
    "\n",
    "print(data_words[:1][0][:30])"
   ]
  },
  {
   "attachments": {},
   "cell_type": "markdown",
   "metadata": {},
   "source": [
    "Step 3: Phrase Modeling: Bigram and Trigram Models"
   ]
  },
  {
   "cell_type": "code",
   "execution_count": 47,
   "metadata": {},
   "outputs": [],
   "source": [
    "# Build the bigram and trigram models\n",
    "bigram = gensim.models.Phrases(data_words, min_count=5, threshold=100) # higher threshold fewer phrases.\n",
    "trigram = gensim.models.Phrases(bigram[data_words], threshold=100)  \n",
    "\n",
    "# Faster way to get a sentence clubbed as a trigram/bigram\n",
    "bigram_mod = gensim.models.phrases.Phraser(bigram)\n",
    "trigram_mod = gensim.models.phrases.Phraser(trigram)"
   ]
  },
  {
   "attachments": {},
   "cell_type": "markdown",
   "metadata": {},
   "source": [
    "Remove Stopwords, Make Bigrams and Lemmatize"
   ]
  },
  {
   "cell_type": "code",
   "execution_count": 48,
   "metadata": {},
   "outputs": [
    {
     "name": "stderr",
     "output_type": "stream",
     "text": [
      "[nltk_data] Downloading package stopwords to\n",
      "[nltk_data]     C:\\Users\\wang\\AppData\\Roaming\\nltk_data...\n",
      "[nltk_data]   Package stopwords is already up-to-date!\n"
     ]
    }
   ],
   "source": [
    "# NLTK Stop words\n",
    "import nltk\n",
    "nltk.download('stopwords')\n",
    "from nltk.corpus import stopwords\n",
    "\n",
    "stop_words = stopwords.words('english')\n",
    "stop_words.extend(['from', 'subject', 're', 'edu', 'use'])"
   ]
  },
  {
   "cell_type": "code",
   "execution_count": 49,
   "metadata": {},
   "outputs": [],
   "source": [
    "# Define functions for stopwords, bigrams, trigrams and lemmatization\n",
    "def remove_stopwords(texts):\n",
    "    return [[word for word in simple_preprocess(str(doc)) if word not in stop_words] for doc in texts]\n",
    "\n",
    "def make_bigrams(texts):\n",
    "    return [bigram_mod[doc] for doc in texts]\n",
    "\n",
    "def make_trigrams(texts):\n",
    "    return [trigram_mod[bigram_mod[doc]] for doc in texts]\n",
    "\n",
    "def lemmatization(texts, allowed_postags=['NOUN', 'ADJ', 'VERB', 'ADV']):\n",
    "    \"\"\"https://spacy.io/api/annotation\"\"\"\n",
    "    texts_out = []\n",
    "    for sent in texts:\n",
    "        doc = nlp(\" \".join(sent)) \n",
    "        texts_out.append([token.lemma_ for token in doc if token.pos_ in allowed_postags])\n",
    "    return texts_out"
   ]
  },
  {
   "cell_type": "code",
   "execution_count": 50,
   "metadata": {},
   "outputs": [
    {
     "name": "stdout",
     "output_type": "stream",
     "text": [
      "['expo', 'minister', 'approve', 'artificial', 'island', 'name', 'world', 'well', 'women', 'call', 'free', 'rider', 'tackle', 'still', 'ambassador', 'bangladesh', 'rule', 'coalition', 'declare', 'winner', 'dispute', 'vote', 'toll', 'northern_territory', 'horror', 'road', 'cabinet', 'documents_reveal', 'pine', 'gap']\n"
     ]
    }
   ],
   "source": [
    "\n",
    "import spacy\n",
    "\n",
    "# Remove Stop Words\n",
    "data_words_nostops = remove_stopwords(data_words)\n",
    "\n",
    "# Form Bigrams\n",
    "data_words_bigrams = make_bigrams(data_words_nostops)\n",
    "\n",
    "# Initialize spacy 'en' model, keeping only tagger component (for efficiency)\n",
    "nlp = spacy.load(\"en_core_web_sm\", disable=['parser', 'ner'])\n",
    "\n",
    "# Do lemmatization keeping only noun, adj, vb, adv\n",
    "data_lemmatized = lemmatization(data_words_bigrams, allowed_postags=['NOUN', 'ADJ', 'VERB', 'ADV'])\n",
    "\n",
    "print(data_lemmatized[:1][0][:30])"
   ]
  },
  {
   "attachments": {},
   "cell_type": "markdown",
   "metadata": {},
   "source": [
    "\n",
    "Step 4: Data transformation: Corpus and Dictionary"
   ]
  },
  {
   "cell_type": "code",
   "execution_count": 51,
   "metadata": {},
   "outputs": [
    {
     "name": "stdout",
     "output_type": "stream",
     "text": [
      "[(0, 1), (1, 1), (2, 1), (3, 1), (4, 1), (5, 1), (6, 1), (7, 1), (8, 1), (9, 1), (10, 2), (11, 1), (12, 1), (13, 1), (14, 1), (15, 1), (16, 1), (17, 1), (18, 1), (19, 1), (20, 1), (21, 1), (22, 1), (23, 1), (24, 1), (25, 1), (26, 4), (27, 1), (28, 1), (29, 1)]\n"
     ]
    }
   ],
   "source": [
    "import gensim.corpora as corpora\n",
    "\n",
    "# Create Dictionary\n",
    "id2word = corpora.Dictionary(data_lemmatized)\n",
    "\n",
    "# Create Corpus\n",
    "texts = data_lemmatized\n",
    "\n",
    "# Term Document Frequency\n",
    "corpus = [id2word.doc2bow(text) for text in texts]\n",
    "\n",
    "# View\n",
    "print(corpus[:1][0][:30])"
   ]
  },
  {
   "attachments": {},
   "cell_type": "markdown",
   "metadata": {},
   "source": [
    "5. base model"
   ]
  },
  {
   "cell_type": "code",
   "execution_count": 52,
   "metadata": {},
   "outputs": [],
   "source": [
    "# Build LDA model\n",
    "lda_model = gensim.models.LdaMulticore(corpus=corpus,\n",
    "                                       id2word=id2word,\n",
    "                                       num_topics=10, \n",
    "                                       random_state=100,\n",
    "                                       chunksize=100,\n",
    "                                       passes=10,\n",
    "                                       per_word_topics=True)"
   ]
  },
  {
   "cell_type": "code",
   "execution_count": 53,
   "metadata": {},
   "outputs": [
    {
     "name": "stdout",
     "output_type": "stream",
     "text": [
      "[(0,\n",
      "  '0.004*\"woman\" + 0.003*\"man\" + 0.002*\"government\" + 0.002*\"say\" + '\n",
      "  '0.002*\"charge\" + 0.002*\"police\" + 0.002*\"arrest\" + 0.002*\"protest\" + '\n",
      "  '0.002*\"murder\" + 0.002*\"change\"'),\n",
      " (1,\n",
      "  '0.007*\"police\" + 0.007*\"australian\" + 0.006*\"bushfire\" + 0.006*\"say\" + '\n",
      "  '0.006*\"man\" + 0.006*\"fire\" + 0.005*\"woman\" + 0.004*\"new\" + 0.004*\"find\" + '\n",
      "  '0.004*\"charge\"'),\n",
      " (2,\n",
      "  '0.012*\"election\" + 0.003*\"presidential\" + 0.003*\"vote\" + 0.002*\"win\" + '\n",
      "  '0.002*\"victory\" + 0.002*\"state\" + 0.002*\"attack\" + 0.002*\"race\" + '\n",
      "  '0.002*\"labor\" + 0.002*\"public_house\"'),\n",
      " (3,\n",
      "  '0.003*\"fire\" + 0.003*\"laker\" + 0.002*\"emmys\" + 0.002*\"kobe_bryant\" + '\n",
      "  '0.002*\"international_student\" + 0.001*\"bushfire\" + 0.001*\"memorial\" + '\n",
      "  '0.001*\"pocket\" + 0.001*\"open\" + 0.001*\"crash\"'),\n",
      " (4,\n",
      "  '0.017*\"covid\" + 0.012*\"say\" + 0.012*\"new\" + 0.009*\"case\" + '\n",
      "  '0.008*\"australian\" + 0.007*\"vaccine\" + 0.006*\"record\" + 0.006*\"lockdown\" + '\n",
      "  '0.005*\"call\" + 0.005*\"government\"'),\n",
      " (5,\n",
      "  '0.001*\"tyson_fury\" + 0.001*\"frock\" + 0.001*\"samui\" + 0.001*\"koh\" + '\n",
      "  '0.000*\"hatter\" + 0.000*\"june\" + 0.000*\"nulla\" + 0.000*\"radburn\" + '\n",
      "  '0.000*\"rtbu\" + 0.000*\"abus\"'),\n",
      " (6,\n",
      "  '0.001*\"oehler\" + 0.001*\"broadcaster\" + 0.001*\"seahorse\" + 0.001*\"wig\" + '\n",
      "  '0.001*\"wooli\" + 0.001*\"denly\" + 0.001*\"discipline\" + 0.001*\"ballon\" + '\n",
      "  '0.001*\"cleanaway\" + 0.001*\"salwa\"'),\n",
      " (7,\n",
      "  '0.005*\"budget\" + 0.001*\"tax_cut\" + 0.001*\"stutter\" + 0.001*\"match\" + '\n",
      "  '0.001*\"kikau\" + 0.001*\"federal\" + 0.001*\"puppy\" + 0.001*\"separatist\" + '\n",
      "  '0.001*\"rabbit\" + 0.001*\"palace_letter\"'),\n",
      " (8,\n",
      "  '0.036*\"election\" + 0.017*\"federal\" + 0.007*\"labor\" + 0.004*\"win\" + '\n",
      "  '0.004*\"police\" + 0.004*\"result\" + 0.004*\"bill_shorten\" + 0.003*\"campaign\" + '\n",
      "  '0.003*\"say\" + 0.003*\"woman\"'),\n",
      " (9,\n",
      "  '0.023*\"covid\" + 0.020*\"coronavirus\" + 0.015*\"case\" + 0.011*\"new\" + '\n",
      "  '0.008*\"restriction\" + 0.008*\"say\" + 0.007*\"record\" + 0.006*\"australian\" + '\n",
      "  '0.006*\"police\" + 0.006*\"government\"')]\n"
     ]
    }
   ],
   "source": [
    "from pprint import pprint\n",
    "\n",
    "# Print the Keyword in the 10 topics\n",
    "pprint(lda_model.print_topics())\n",
    "doc_lda = lda_model[corpus]"
   ]
  },
  {
   "attachments": {},
   "cell_type": "markdown",
   "metadata": {},
   "source": [
    "Compute Model Perplexity and Coherence Score"
   ]
  },
  {
   "cell_type": "code",
   "execution_count": 54,
   "metadata": {},
   "outputs": [
    {
     "name": "stdout",
     "output_type": "stream",
     "text": [
      "Coherence Score:  0.3403542561408782\n"
     ]
    }
   ],
   "source": [
    "from gensim.models import CoherenceModel\n",
    "\n",
    "# Compute Coherence Score\n",
    "coherence_model_lda = CoherenceModel(model=lda_model, texts=data_lemmatized, dictionary=id2word, coherence='c_v')\n",
    "coherence_lda = coherence_model_lda.get_coherence()\n",
    "print('Coherence Score: ', coherence_lda)"
   ]
  },
  {
   "attachments": {},
   "cell_type": "markdown",
   "metadata": {},
   "source": [
    "\n",
    "Step 6: Hyperparameter tuning"
   ]
  },
  {
   "cell_type": "code",
   "execution_count": 55,
   "metadata": {},
   "outputs": [],
   "source": [
    "# supporting function\n",
    "def compute_coherence_values(corpus, dictionary, k, a, b):\n",
    "    \n",
    "    lda_model = gensim.models.LdaMulticore(corpus=corpus,\n",
    "                                           id2word=dictionary,\n",
    "                                           num_topics=k, \n",
    "                                           random_state=100,\n",
    "                                           chunksize=100,\n",
    "                                           passes=10,\n",
    "                                           alpha=a,\n",
    "                                           eta=b)\n",
    "    \n",
    "    coherence_model_lda = CoherenceModel(model=lda_model, texts=data_lemmatized, dictionary=id2word, coherence='c_v')\n",
    "    \n",
    "    return coherence_model_lda.get_coherence()"
   ]
  },
  {
   "cell_type": "code",
   "execution_count": 56,
   "metadata": {},
   "outputs": [
    {
     "name": "stderr",
     "output_type": "stream",
     "text": [
      " 24%|██▎       | 127/540 [55:49<2:52:48, 25.10s/it]"
     ]
    }
   ],
   "source": [
    "import numpy as np\n",
    "import tqdm\n",
    "\n",
    "grid = {}\n",
    "grid['Validation_Set'] = {}\n",
    "\n",
    "# Topics range\n",
    "min_topics = 2\n",
    "max_topics = 11\n",
    "step_size = 1\n",
    "topics_range = range(min_topics, max_topics, step_size)\n",
    "\n",
    "# Alpha parameter\n",
    "alpha = list(np.arange(0.01, 1, 0.3))\n",
    "alpha.append('symmetric')\n",
    "alpha.append('asymmetric')\n",
    "\n",
    "# Beta parameter\n",
    "beta = list(np.arange(0.01, 1, 0.3))\n",
    "beta.append('symmetric')\n",
    "\n",
    "# Validation sets\n",
    "num_of_docs = len(corpus)\n",
    "corpus_sets = [gensim.utils.ClippedCorpus(corpus, int(num_of_docs*0.75)), \n",
    "               corpus]\n",
    "\n",
    "corpus_title = ['75% Corpus', '100% Corpus']\n",
    "\n",
    "model_results = {'Validation_Set': [],\n",
    "                 'Topics': [],\n",
    "                 'Alpha': [],\n",
    "                 'Beta': [],\n",
    "                 'Coherence': []\n",
    "                }\n",
    "\n",
    "# Can take a long time to run\n",
    "if 1 == 1:\n",
    "    pbar = tqdm.tqdm(total=(len(beta)*len(alpha)*len(topics_range)*len(corpus_title)))\n",
    "    \n",
    "    # iterate through validation corpuses\n",
    "    for i in range(len(corpus_sets)):\n",
    "        # iterate through number of topics\n",
    "        for k in topics_range:\n",
    "            # iterate through alpha values\n",
    "            for a in alpha:\n",
    "                # iterare through beta values\n",
    "                for b in beta:\n",
    "                    # get the coherence score for the given parameters\n",
    "                    cv = compute_coherence_values(corpus=corpus_sets[i], dictionary=id2word, \n",
    "                                                  k=k, a=a, b=b)\n",
    "                    # Save the model results\n",
    "                    model_results['Validation_Set'].append(corpus_title[i])\n",
    "                    model_results['Topics'].append(k)\n",
    "                    model_results['Alpha'].append(a)\n",
    "                    model_results['Beta'].append(b)\n",
    "                    model_results['Coherence'].append(cv)\n",
    "                    \n",
    "                    pbar.update(1)\n",
    "    pd.DataFrame(model_results).to_csv('D:/ds/ds/S3/NLP_LDA/result/lda_tuning_results.csv', index=False)\n",
    "    pbar.close()"
   ]
  },
  {
   "attachments": {},
   "cell_type": "markdown",
   "metadata": {},
   "source": [
    "\n",
    "Step 7: Final Model"
   ]
  },
  {
   "cell_type": "code",
   "execution_count": null,
   "metadata": {},
   "outputs": [],
   "source": [
    "num_topics = 8\n",
    "\n",
    "lda_model = gensim.models.LdaMulticore(corpus=corpus,\n",
    "                                           id2word=id2word,\n",
    "                                           num_topics=num_topics, \n",
    "                                           random_state=100,\n",
    "                                           chunksize=100,\n",
    "                                           passes=10,\n",
    "                                           alpha=0.01,\n",
    "                                           eta=0.9)"
   ]
  },
  {
   "cell_type": "code",
   "execution_count": null,
   "metadata": {},
   "outputs": [
    {
     "name": "stdout",
     "output_type": "stream",
     "text": [
      "[(0,\n",
      "  '0.006*\"high\" + 0.004*\"govt\" + 0.004*\"investigation\" + 0.004*\"price\" + '\n",
      "  '0.004*\"move\" + 0.003*\"claim\" + 0.003*\"war\" + 0.003*\"protect\" + '\n",
      "  '0.003*\"korean\" + 0.003*\"police\"'),\n",
      " (1,\n",
      "  '0.004*\"rule\" + 0.003*\"profit\" + 0.003*\"record\" + 0.003*\"arsenal\" + '\n",
      "  '0.003*\"power\" + 0.003*\"federal\" + 0.003*\"scrap\" + 0.003*\"brawl\" + '\n",
      "  '0.003*\"cairn\" + 0.003*\"injure\"'),\n",
      " (2,\n",
      "  '0.004*\"day\" + 0.003*\"charge\" + 0.003*\"rain\" + 0.003*\"force\" + 0.003*\"air\" + '\n",
      "  '0.003*\"price\" + 0.003*\"visit\" + 0.003*\"upset\" + 0.003*\"fire\" + '\n",
      "  '0.003*\"crash\"'),\n",
      " (3,\n",
      "  '0.006*\"govt\" + 0.005*\"police\" + 0.004*\"raid\" + 0.004*\"work\" + 0.003*\"new\" + '\n",
      "  '0.003*\"aid\" + 0.003*\"fire\" + 0.003*\"appeal\" + 0.003*\"danger\" + '\n",
      "  '0.003*\"claim\"'),\n",
      " (4,\n",
      "  '0.005*\"plane\" + 0.004*\"war\" + 0.004*\"woman\" + 0.004*\"man\" + 0.003*\"race\" + '\n",
      "  '0.003*\"kill\" + 0.003*\"deny\" + 0.003*\"ethanol\" + 0.003*\"fuel\" + '\n",
      "  '0.003*\"miss\"'),\n",
      " (5,\n",
      "  '0.005*\"police\" + 0.005*\"action\" + 0.004*\"probe\" + 0.004*\"consider\" + '\n",
      "  '0.003*\"man\" + 0.003*\"win\" + 0.003*\"continue\" + 0.003*\"find\" + '\n",
      "  '0.003*\"question\" + 0.003*\"nat\"'),\n",
      " (6,\n",
      "  '0.005*\"protester\" + 0.005*\"war\" + 0.005*\"criticism\" + 0.003*\"pm\" + '\n",
      "  '0.003*\"plan\" + 0.002*\"howard\" + 0.002*\"crash\" + 0.002*\"car\" + '\n",
      "  '0.002*\"federal\" + 0.002*\"talk\"'),\n",
      " (7,\n",
      "  '0.003*\"tell\" + 0.003*\"plan\" + 0.003*\"change\" + 0.003*\"expect\" + '\n",
      "  '0.003*\"second\" + 0.002*\"claim\" + 0.002*\"land\" + 0.002*\"win\" + 0.002*\"fund\" '\n",
      "  '+ 0.002*\"player\"')]\n"
     ]
    }
   ],
   "source": [
    "\n",
    "from pprint import pprint\n",
    "\n",
    "# Print the Keyword in the 10 topics\n",
    "pprint(lda_model.print_topics())\n",
    "doc_lda = lda_model[corpus]"
   ]
  },
  {
   "cell_type": "code",
   "execution_count": null,
   "metadata": {},
   "outputs": [],
   "source": [
    "topic_word = lda_model.components_\n",
    "\n",
    "print(\"Shape of Lda Components :\",topic_word.shape)"
   ]
  },
  {
   "attachments": {},
   "cell_type": "markdown",
   "metadata": {},
   "source": [
    "\n",
    "Step 8: Visualize Results"
   ]
  },
  {
   "cell_type": "code",
   "execution_count": null,
   "metadata": {},
   "outputs": [
    {
     "name": "stderr",
     "output_type": "stream",
     "text": [
      "d:\\Programs\\Python\\Python39\\lib\\site-packages\\pyLDAvis\\_prepare.py:246: FutureWarning: In a future version of pandas all arguments of DataFrame.drop except for the argument 'labels' will be keyword-only\n",
      "  default_term_info = default_term_info.sort_values(\n"
     ]
    },
    {
     "data": {
      "text/html": [
       "\n",
       "<link rel=\"stylesheet\" type=\"text/css\" href=\"https://cdn.jsdelivr.net/gh/bmabey/pyLDAvis@3.3.1/pyLDAvis/js/ldavis.v1.0.0.css\">\n",
       "\n",
       "\n",
       "<div id=\"ldavis_el212022932981812809380969130\"></div>\n",
       "<script type=\"text/javascript\">\n",
       "\n",
       "var ldavis_el212022932981812809380969130_data = {\"mdsDat\": {\"x\": [-0.01820223579195867, 0.02161568094204247, 0.010820990664996645, -0.00440819862974812, -0.0023680221055029514, 0.004256047750681784, -0.007017321919960757, -0.004696940910550395], \"y\": [-0.02161917837105394, -0.00937776606559996, -0.0030274775561816, 0.011102344273066432, 0.0014045281049316688, 0.0030698503070268495, 0.013877315884185127, 0.004570383423625415], \"topics\": [1, 2, 3, 4, 5, 6, 7, 8], \"cluster\": [1, 1, 1, 1, 1, 1, 1, 1], \"Freq\": [16.040597781680273, 14.889995559692897, 13.650935662744676, 13.509178607969801, 11.141570982609624, 10.792965247026556, 10.456043457926299, 9.518712700349868]}, \"tinfo\": {\"Term\": [\"high\", \"govt\", \"protester\", \"war\", \"police\", \"criticism\", \"raid\", \"action\", \"plane\", \"work\", \"price\", \"day\", \"investigation\", \"rule\", \"man\", \"federal\", \"probe\", \"aid\", \"arsenal\", \"profit\", \"consider\", \"crash\", \"fire\", \"air\", \"visit\", \"move\", \"pm\", \"tell\", \"scrap\", \"new\", \"plane\", \"woman\", \"fuel\", \"quit\", \"miss\", \"kill\", \"deny\", \"ethanol\", \"race\", \"maroney\", \"blend\", \"aware\", \"put\", \"vow\", \"defamation\", \"call\", \"take\", \"man\", \"cocktail\", \"hotel\", \"melb\", \"molotov\", \"suspect\", \"expert\", \"minimal\", \"pose\", \"labor\", \"motorist\", \"fiance\", \"hear\", \"hijack\", \"war\", \"hospital\", \"court\", \"british\", \"cost\", \"ahead\", \"face\", \"talk\", \"still\", \"fire\", \"water\", \"plan\", \"trial\", \"charge\", \"new\", \"police\", \"high\", \"investigation\", \"petrol\", \"park\", \"oil\", \"move\", \"area\", \"cause\", \"price\", \"protect\", \"soldier\", \"bay\", \"emergency\", \"climb\", \"burn\", \"underway\", \"korean\", \"grow\", \"asylum\", \"urge\", \"education\", \"subway\", \"inventory\", \"conservation\", \"adelaide\", \"landing\", \"pilot\", \"piracy\", \"defaulter\", \"island\", \"govt\", \"death\", \"help\", \"claim\", \"target\", \"pay\", \"bushfire\", \"war\", \"continue\", \"back\", \"fire\", \"police\", \"aust\", \"court\", \"make\", \"action\", \"consider\", \"probe\", \"nation\", \"pre\", \"find\", \"nat\", \"question\", \"deposit\", \"push\", \"qld\", \"class\", \"community\", \"river\", \"police\", \"industry\", \"break\", \"wine\", \"compo\", \"group\", \"selection\", \"edge\", \"user\", \"winemaker\", \"lower\", \"unemployment\", \"glenelg\", \"payout\", \"benefit\", \"cannabis\", \"win\", \"drought\", \"launch\", \"cost\", \"man\", \"meeting\", \"continue\", \"remain\", \"take\", \"claim\", \"govt\", \"fire\", \"tell\", \"expect\", \"player\", \"bill\", \"change\", \"second\", \"land\", \"export\", \"sheep\", \"challenge\", \"march\", \"mine\", \"rating\", \"crown\", \"gauge\", \"alive\", \"keep\", \"play\", \"cattle\", \"kayaker\", \"rescue\", \"burmese\", \"adventure\", \"conviction\", \"sept\", \"election\", \"magic\", \"pudding\", \"disunity\", \"enterprise\", \"go\", \"plan\", \"death\", \"fund\", \"win\", \"continue\", \"back\", \"claim\", \"live\", \"threaten\", \"feeling\", \"taipan\", \"result\", \"dream\", \"tas\", \"make\", \"air\", \"upset\", \"day\", \"visit\", \"stock\", \"charge\", \"concern\", \"force\", \"head\", \"rain\", \"strike\", \"ama\", \"deliver\", \"kingfisher\", \"macarthur\", \"minor\", \"suffer\", \"bail\", \"planning\", \"sport\", \"task\", \"dairy\", \"field\", \"qfvg\", \"retail\", \"trawler\", \"yacht\", \"allan\", \"cash\", \"candleholder\", \"crash\", \"price\", \"lose\", \"murder\", \"man\", \"fire\", \"injure\", \"health\", \"politician\", \"list\", \"call\", \"boost\", \"national\", \"claim\", \"begin\", \"plantation\", \"thousand\", \"work\", \"raid\", \"aid\", \"confidence\", \"tree\", \"closure\", \"mill\", \"rice\", \"stand\", \"fight\", \"tent\", \"aboriginal\", \"hold\", \"danger\", \"govt\", \"embassy\", \"appeal\", \"decision\", \"chop\", \"trade\", \"debut\", \"minardis\", \"pleased\", \"track\", \"verstappen\", \"speak\", \"schedule\", \"taxi\", \"battle\", \"marangaroo\", \"new\", \"union\", \"police\", \"fire\", \"defend\", \"trial\", \"claim\", \"fund\", \"office\", \"tax\", \"arsenal\", \"profit\", \"power\", \"brawl\", \"cairn\", \"rule\", \"scrap\", \"supply\", \"growth\", \"federal\", \"bid\", \"record\", \"get\", \"threaten\", \"detail\", \"thatcher\", \"whack\", \"link\", \"boundary\", \"drift\", \"population\", \"clone\", \"crayfish\", \"native\", \"self\", \"specie\", \"pension\", \"angler\", \"fee\", \"shield\", \"injure\", \"report\", \"jail\", \"fund\", \"face\", \"western\", \"reveal\", \"month\", \"back\", \"police\", \"force\", \"drug\", \"new\", \"plantation\", \"protester\", \"criticism\", \"pm\", \"howard\", \"car\", \"flak\", \"immigration\", \"draw\", \"allow\", \"manus\", \"allegedly\", \"front\", \"disaster\", \"palaszczuk\", \"disgraceful\", \"breed\", \"sentiment\", \"condemn\", \"liberal\", \"president\", \"stone\", \"jittery\", \"shadow\", \"classic\", \"holden\", \"follow\", \"protocol\", \"redundancy\", \"solar\", \"turn\", \"war\", \"federal\", \"crime\", \"pay\", \"talk\", \"plan\", \"crash\", \"raid\", \"plane\", \"education\", \"still\", \"court\", \"centre\", \"detention\", \"lawyer\", \"visit\", \"brothel\", \"hire\", \"owner\"], \"Freq\": [3.0, 4.0, 2.0, 4.0, 5.0, 2.0, 3.0, 2.0, 3.0, 2.0, 3.0, 2.0, 2.0, 2.0, 3.0, 2.0, 2.0, 2.0, 2.0, 2.0, 2.0, 2.0, 4.0, 2.0, 2.0, 2.0, 2.0, 2.0, 2.0, 3.0, 1.594906904933189, 1.2692198855675647, 1.0799516131049407, 0.9093931116996997, 1.0799516131049407, 1.0894355254006503, 1.08917722918304, 1.0799517748939902, 1.089435606295175, 0.7390938772463664, 0.7388355810287561, 0.732860954112362, 0.739094039035416, 0.7390941199299408, 0.732861277690461, 1.079692750625657, 0.9188774284680331, 1.2692197237785152, 0.5685378026768687, 0.5685378026768687, 0.5685378026768687, 0.5685378026768687, 0.5685378026768687, 0.5685378026768687, 0.5685378026768687, 0.5685378026768687, 0.568537721782344, 0.568537721782344, 0.568537721782344, 0.568537721782344, 0.739094039035416, 1.4397785487618553, 0.7390938772463664, 1.0545288099090067, 0.9188774284680331, 0.7390935536682673, 0.7388355810287561, 0.7134114026259009, 0.7390942008244655, 0.7296100458451817, 1.0737193371271345, 0.7390941199299408, 0.9188774284680331, 0.7390942008244655, 0.739094039035416, 0.7390941199299408, 0.7390941199299408, 2.0334147146937447, 1.3653042754169014, 0.8769667957351384, 0.8769666455513196, 0.8765965175300785, 1.202524990369798, 0.8769666455513196, 0.8679154422564723, 1.2109592385373342, 1.0309412540420082, 0.7053838103264422, 0.7053838103264422, 0.7053837352345328, 0.705383585050714, 0.705383585050714, 0.6965790586781181, 1.0213427809117368, 0.7051368330365533, 0.7053838103264422, 0.8593575177142184, 0.6963321564801386, 0.6957853371961706, 0.5426067404906649, 0.5426066278528009, 0.5426066278528009, 0.5426066278528009, 0.5426066278528009, 0.5426066278528009, 0.5426066278528009, 0.5426066278528009, 1.3712521553735801, 0.8681617437191769, 0.7053839605102609, 1.1045630890936042, 0.7026117924923749, 0.7053838103264422, 0.7053835099588046, 1.0397456302307855, 0.8676150746190276, 0.868162194270633, 0.8741102244111305, 0.8769668708270477, 0.7053839605102609, 0.7053838103264422, 0.7053837352345328, 1.4236904288511274, 1.1145294221310427, 1.2605708913257843, 0.8121494009816628, 0.8121494009816628, 0.8131639431024507, 0.8131638742592586, 0.8131639431024507, 0.6540642972454961, 0.6540642972454961, 0.6540642972454961, 0.65383532478884, 0.65406443493188, 0.6529101411312932, 1.584174098240437, 0.65406443493188, 0.6456711418040841, 0.65406443493188, 0.65406443493188, 0.6403842600297732, 0.5031299702859656, 0.5031299702859656, 0.5031299702859656, 0.5031299702859656, 0.5031299702859656, 0.5031299702859656, 0.5031298670211777, 0.5031298670211777, 0.5031298670211777, 0.5031298670211777, 0.9557070766515416, 0.6540642972454961, 0.6252326995846387, 0.6535571982930822, 0.9641000255633775, 0.6535571982930822, 0.8131640807888346, 0.65406443493188, 0.6485480987985689, 0.6540642972454961, 0.65406443493188, 0.6540645037750721, 0.9711529085018168, 0.7949159770309017, 0.6646353959727082, 0.6644019884327649, 0.8094816021964752, 0.7937429440411925, 0.6646355322292989, 0.5112618435304527, 0.5112618435304527, 0.5112617413380096, 0.5112617413380096, 0.5112617413380096, 0.5112617413380096, 0.5112617413380096, 0.5112617413380096, 0.5112617413380096, 0.5112617413380096, 0.5112617413380096, 0.5112617413380096, 0.5112617072738619, 0.5112617072738619, 0.5112617072738619, 0.5112616391455665, 0.5112616391455665, 0.5112616391455665, 0.5112616391455665, 0.5112616391455665, 0.5112616391455665, 0.5112616391455665, 0.5112616391455665, 0.6563394815735972, 0.8168375505043435, 0.6563394815735972, 0.6646353959727082, 0.6646355322292989, 0.6530546758122528, 0.6563394815735972, 0.6646356003575943, 0.5112618435304527, 0.5112618435304527, 0.5112617413380096, 0.5112617413380096, 0.5112617413380096, 0.5112617413380096, 0.5112617413380096, 0.5112617413380096, 0.8250101781820425, 0.7014948918728894, 0.9618821829111764, 0.7014950042492611, 0.5644834842545694, 0.8318584504661557, 0.694548571204403, 0.8317594468826226, 0.5560036756168506, 0.8317594468826226, 0.5569999483408159, 0.4342213172427365, 0.4342213172427365, 0.4342212329604576, 0.4342212329604576, 0.4342212329604576, 0.4342212329604576, 0.4342212329604576, 0.4342212329604576, 0.4342212329604576, 0.4342212329604576, 0.4342212329604576, 0.4342212329604576, 0.4342211486781788, 0.4342211486781788, 0.4342211486781788, 0.4342211486781788, 0.4342211486781788, 0.4342211486781788, 0.4342211486781788, 0.6947464659950977, 0.7017924645053478, 0.5644834280663835, 0.564285982781176, 0.694549133086262, 0.6947466345596554, 0.5564414377730975, 0.4342213172427365, 0.4342213172427365, 0.4342213172427365, 0.4342212329604576, 0.4342212329604576, 0.4342212329604576, 0.4342212329604576, 0.4342212329604576, 0.4342212329604576, 0.4342212329604576, 0.9191883555076984, 1.0512006847975668, 0.8008161074989059, 0.5434187524755472, 0.5434187524755472, 0.5432286824676719, 0.5432286824676719, 0.5432286824676719, 0.5412835674042614, 0.538836007826906, 0.5360243106915077, 0.5360243106915077, 0.6642386144918234, 0.6756037885623766, 1.304586974809373, 0.5360243106915077, 0.6756039518527613, 0.5429973544225775, 0.4180175609939643, 0.4180175609939643, 0.4180175609939643, 0.4180175609939643, 0.4180175609939643, 0.4180175609939643, 0.4180175609939643, 0.4180175609939643, 0.41801750656383607, 0.41801750656383607, 0.41801750656383607, 0.41801750656383607, 0.8010065585176789, 0.5434187524755472, 1.0585950177213497, 0.7964241948799355, 0.5360243106915077, 0.5412835674042614, 0.668821032559695, 0.5434187524755472, 0.4180175609939643, 0.4180175609939643, 0.7720137609556732, 0.7723409567739019, 0.6515812326662583, 0.651581021742282, 0.651581021742282, 0.9000101812280342, 0.6515810744732761, 0.5240963030364144, 0.5240961448434321, 0.6515811799352642, 0.6446329750391253, 0.7723409567739019, 0.5236896416101162, 0.5240962503054203, 0.4031539187652987, 0.4031538396688076, 0.4031538396688076, 0.4031538396688076, 0.4031538396688076, 0.4031538396688076, 0.4031538396688076, 0.4031538396688076, 0.4031538396688076, 0.4031538396688076, 0.4031538396688076, 0.4031538396688076, 0.4031538396688076, 0.4031538396688076, 0.4031538396688076, 0.4031537869378135, 0.651581021742282, 0.5235310267799419, 0.5240960921124381, 0.5175542849876269, 0.42136456756872886, 0.4031539187652987, 0.4031539187652987, 0.4031538396688076, 0.4031538396688076, 0.4031538396688076, 0.4031538396688076, 0.4031538396688076, 0.4031538396688076, 0.4031538396688076, 1.0615696709724378, 0.9491155674796191, 0.6058422450205997, 0.4873064755744485, 0.48730642757051806, 0.48692854062997265, 0.48692854062997265, 0.48692854062997265, 0.37485388420543914, 0.37485388420543914, 0.37485388420543914, 0.37485388420543914, 0.37485386020347394, 0.37485386020347394, 0.37485386020347394, 0.37485386020347394, 0.37485386020347394, 0.37485386020347394, 0.37485386020347394, 0.37485386020347394, 0.37485386020347394, 0.37485386020347394, 0.37485386020347394, 0.37485378819757825, 0.37485378819757825, 0.37485378819757825, 0.37485378819757825, 0.37485378819757825, 0.37485378819757825, 0.37485378819757825, 1.0615696709724378, 0.48730642757051806, 0.48730623555479624, 0.4873063315626571, 0.48730642757051806, 0.5936771369685078, 0.48730642757051806, 0.48692854062997265, 0.4873063315626571, 0.37502429815855604, 0.37502415414676465, 0.37485388420543914, 0.37485388420543914, 0.37485388420543914, 0.37485388420543914, 0.37485388420543914, 0.37485388420543914, 0.37485388420543914, 0.37485388420543914], \"Total\": [3.0, 4.0, 2.0, 4.0, 5.0, 2.0, 3.0, 2.0, 3.0, 2.0, 3.0, 2.0, 2.0, 2.0, 3.0, 2.0, 2.0, 2.0, 2.0, 2.0, 2.0, 2.0, 4.0, 2.0, 2.0, 2.0, 2.0, 2.0, 2.0, 3.0, 3.1752016847047484, 2.622844590629764, 2.303520430575782, 2.1330006150854794, 2.5519097204584327, 2.580365727046103, 2.6471190688343365, 2.7076594998163084, 2.803907764084421, 1.9624725974942683, 1.9624043984995974, 1.960347502700146, 2.0878514421110093, 2.115826788703105, 2.111262481295656, 3.3421730580127065, 2.8451298168553745, 3.954404116715309, 1.7919165229247704, 1.7919165229247704, 1.7919165229247704, 1.7919165229247704, 1.7919165229247704, 1.7919165229247704, 1.7919165229247704, 1.7919165229247704, 1.7919164420302458, 1.7919164420302458, 1.7919164420302458, 1.7919164420302458, 2.3617961405262773, 4.7912019952884, 2.373394390174664, 3.5836106856658287, 3.079534444984206, 2.4234249286487155, 2.435170176897488, 2.460977491392686, 2.6209183288370377, 2.585893937680992, 4.5922106746979825, 2.6534785627868556, 3.9619094384754834, 2.8150037037374807, 2.9321208698343932, 3.4609615726501812, 5.168776075960975, 3.26726076100124, 2.598636688456115, 2.1102992087743524, 2.1102990585905337, 2.1102721138815084, 2.9942766910054597, 2.2227377048177455, 2.2138571794976327, 3.1502907068366532, 2.702358390568653, 1.9387162233656563, 1.9387162233656563, 1.938716148273747, 1.9387159980899282, 1.9387159980899282, 1.9299114717173322, 2.844735750371517, 2.051140469148905, 2.0596433156484903, 2.64538490734847, 2.160806782931623, 2.270769290409935, 1.7759391535298792, 1.775939040892015, 1.775939040892015, 1.775939040892015, 1.775939040892015, 1.775939040892015, 1.775939040892015, 1.775939040892015, 4.560261849969105, 2.8716032344097044, 2.495969749386183, 4.477574132807145, 2.5160759856678006, 2.5426459530693286, 2.6272208604704375, 4.7912019952884, 3.7094367361046854, 3.8097516140032326, 4.5922106746979825, 5.168776075960975, 2.6570842306789326, 3.5836106856658287, 3.092588238120467, 2.9801175398533055, 2.3635295831970047, 2.988651993543267, 2.0614467935500786, 2.0614467935500786, 2.2150032071655517, 2.215003206450655, 2.224390250447153, 1.9025494083984489, 1.9025494083984489, 1.9025494083984489, 1.9025789546193461, 2.01498826431794, 2.032599751657158, 5.168776075960975, 2.1701010274823833, 2.2198832453134827, 2.252860312754283, 2.252861243041318, 2.227962116346469, 1.7516150814389182, 1.7516150814389182, 1.7516150814389182, 1.7516150814389182, 1.7516150814389182, 1.7516150814389182, 1.7516149781741304, 1.7516149781741304, 1.7516149781741304, 1.7516149781741304, 3.349354865602, 2.3258106531385145, 2.240311501600194, 2.4234249286487155, 3.954404116715309, 2.58695491866373, 3.7094367361046854, 2.732241744724055, 2.8451298168553745, 4.477574132807145, 4.560261849969105, 4.5922106746979825, 2.467548315652999, 2.23649554103178, 1.9099995263940779, 1.9100128520953181, 2.3893700398609052, 2.3757504565892082, 2.072754955832731, 1.7566259739518226, 1.7566259739518226, 1.7566258717593795, 1.7566258717593795, 1.7566258717593795, 1.7566258717593795, 1.7566258717593795, 1.7566258717593795, 1.7566258717593795, 1.7566258717593795, 1.7566258717593795, 1.7566258717593795, 1.7566258376952317, 1.7566258376952317, 1.7566258376952317, 1.7566257695669363, 1.7566257695669363, 1.7566257695669363, 1.7566257695669363, 1.7566257695669363, 1.7566257695669363, 1.7566257695669363, 1.7566257695669363, 2.373982354916413, 3.9619094384754834, 2.8716032344097044, 3.0572825117652767, 3.349354865602, 3.7094367361046854, 3.8097516140032326, 4.477574132807145, 1.8690646201790346, 2.1259774535654454, 1.9193815404009886, 1.8868719689500486, 1.8775982341660156, 1.8775529640422137, 2.2293154394265224, 3.092588238120467, 2.262701005736263, 1.9768179140055557, 2.9026567769194904, 2.2077721469611986, 1.9603458105419242, 2.9321208698343932, 2.4552076850591558, 3.011255977142279, 2.063721089353507, 3.1716541934021336, 2.1657308587753596, 1.709156551247257, 1.709156551247257, 1.7091564669649781, 1.7091564669649781, 1.7091564669649781, 1.7091564669649781, 1.7091564669649781, 1.7091564669649781, 1.7091564669649781, 1.7091564669649781, 1.7091564669649781, 1.7091564669649781, 1.7091563826826994, 1.7091563826826994, 1.7091563826826994, 1.7091563826826994, 1.7091563826826994, 1.7091563826826994, 1.7091563826826994, 2.829992443613292, 3.1502907068366532, 2.5058402111614875, 2.641068048726802, 3.954404116715309, 4.5922106746979825, 3.47752752997218, 2.2343738214865336, 1.9401283267044451, 2.0191667215301012, 3.3421730580127065, 2.371346733267145, 2.0158813109289766, 4.477574132807145, 2.1667960670664854, 2.0700042541750956, 1.8300834274203273, 2.200829356097181, 3.141185222868246, 2.3972504810451425, 1.8245735221801611, 1.8245735221801611, 1.8245667714731837, 1.8245667714731837, 1.8245667714731837, 1.8246552279360069, 1.8247491723826996, 1.817944439864119, 1.8179444600877501, 2.2580646006792553, 2.3070702552234756, 4.560261849969105, 1.9388715523705844, 2.581789646986294, 2.1161855962079446, 1.6991723306985782, 1.6991723306985782, 1.6991723306985782, 1.6991723306985782, 1.6991723306985782, 1.6991723306985782, 1.6991723306985782, 1.6991723306985782, 1.69917227626845, 1.69917227626845, 1.69917227626845, 1.69917227626845, 3.4609615726501812, 2.302350255762209, 5.168776075960975, 4.5922106746979825, 2.5538503130542423, 2.8150037037374807, 4.477574132807145, 3.0572825117652767, 1.9301440341498706, 1.9301439861459402, 2.1848954268462664, 2.1896758163420404, 1.9384411666009587, 1.9384409556769826, 1.9384409556769826, 2.978844043229028, 2.2059927707464566, 1.810956236971115, 1.8109560787781327, 2.281865456694197, 2.282182228849239, 2.7887574551640197, 1.9644765638828234, 2.1259774535654454, 1.6900138526999993, 1.6900137736035081, 1.6900137736035081, 1.6900137736035081, 1.6900137736035081, 1.6900137736035081, 1.6900137736035081, 1.6900137736035081, 1.6900137736035081, 1.6900137736035081, 1.6900137736035081, 1.6900137736035081, 1.6900137736035081, 1.6900137736035081, 1.6900137736035081, 1.690013720872514, 3.47752752997218, 2.5209579009699388, 2.5562842193732735, 3.0572825117652767, 2.460977491392686, 1.8202599779847615, 1.9533670506798342, 1.9918598641663847, 3.8097516140032326, 5.168776075960975, 3.011255977142279, 2.24836034859474, 3.4609615726501812, 2.0700042541750956, 2.359521073990528, 2.247066987708507, 2.21357482865408, 1.7850290954546606, 1.7850290474507302, 1.7850885855373162, 2.042655912243691, 2.0950988590849486, 1.6725765040856513, 1.6725765040856513, 1.6725765040856513, 1.6725765040856513, 1.672576480083686, 1.672576480083686, 1.672576480083686, 1.672576480083686, 1.672576480083686, 1.672576480083686, 1.672576480083686, 1.672576480083686, 1.672576480083686, 1.672576480083686, 1.672576480083686, 1.6725764080777903, 1.6725764080777903, 1.6725764080777903, 1.6725764080777903, 1.6725764080777903, 1.6725764080777903, 1.6725764080777903, 4.7912019952884, 2.281865456694197, 2.3677719451248587, 2.5426459530693286, 2.6209183288370377, 3.9619094384754834, 2.829992443613292, 3.141185222868246, 3.1752016847047484, 2.160806782931623, 2.585893937680992, 3.5836106856658287, 1.825930725124095, 2.1762420176079567, 2.2451651406680417, 2.2077721469611986, 1.9825867776332837, 1.9825867776332837, 1.9825867776332837], \"Category\": [\"Default\", \"Default\", \"Default\", \"Default\", \"Default\", \"Default\", \"Default\", \"Default\", \"Default\", \"Default\", \"Default\", \"Default\", \"Default\", \"Default\", \"Default\", \"Default\", \"Default\", \"Default\", \"Default\", \"Default\", \"Default\", \"Default\", \"Default\", \"Default\", \"Default\", \"Default\", \"Default\", \"Default\", \"Default\", \"Default\", \"Topic1\", \"Topic1\", \"Topic1\", \"Topic1\", \"Topic1\", \"Topic1\", \"Topic1\", \"Topic1\", \"Topic1\", \"Topic1\", \"Topic1\", \"Topic1\", \"Topic1\", \"Topic1\", \"Topic1\", \"Topic1\", \"Topic1\", \"Topic1\", \"Topic1\", \"Topic1\", \"Topic1\", \"Topic1\", \"Topic1\", \"Topic1\", \"Topic1\", \"Topic1\", \"Topic1\", \"Topic1\", \"Topic1\", \"Topic1\", \"Topic1\", \"Topic1\", \"Topic1\", \"Topic1\", \"Topic1\", \"Topic1\", \"Topic1\", \"Topic1\", \"Topic1\", \"Topic1\", \"Topic1\", \"Topic1\", \"Topic1\", \"Topic1\", \"Topic1\", \"Topic1\", \"Topic1\", \"Topic2\", \"Topic2\", \"Topic2\", \"Topic2\", \"Topic2\", \"Topic2\", \"Topic2\", \"Topic2\", \"Topic2\", \"Topic2\", \"Topic2\", \"Topic2\", \"Topic2\", \"Topic2\", \"Topic2\", \"Topic2\", \"Topic2\", \"Topic2\", \"Topic2\", \"Topic2\", \"Topic2\", \"Topic2\", \"Topic2\", \"Topic2\", \"Topic2\", \"Topic2\", \"Topic2\", \"Topic2\", \"Topic2\", \"Topic2\", \"Topic2\", \"Topic2\", \"Topic2\", \"Topic2\", \"Topic2\", \"Topic2\", \"Topic2\", \"Topic2\", \"Topic2\", \"Topic2\", \"Topic2\", \"Topic2\", \"Topic2\", \"Topic2\", \"Topic2\", \"Topic3\", \"Topic3\", \"Topic3\", \"Topic3\", \"Topic3\", \"Topic3\", \"Topic3\", \"Topic3\", \"Topic3\", \"Topic3\", \"Topic3\", \"Topic3\", \"Topic3\", \"Topic3\", \"Topic3\", \"Topic3\", \"Topic3\", \"Topic3\", \"Topic3\", \"Topic3\", \"Topic3\", \"Topic3\", \"Topic3\", \"Topic3\", \"Topic3\", \"Topic3\", \"Topic3\", \"Topic3\", \"Topic3\", \"Topic3\", \"Topic3\", \"Topic3\", \"Topic3\", \"Topic3\", \"Topic3\", \"Topic3\", \"Topic3\", \"Topic3\", \"Topic3\", \"Topic3\", \"Topic3\", \"Topic3\", \"Topic4\", \"Topic4\", \"Topic4\", \"Topic4\", \"Topic4\", \"Topic4\", \"Topic4\", \"Topic4\", \"Topic4\", \"Topic4\", \"Topic4\", \"Topic4\", \"Topic4\", \"Topic4\", \"Topic4\", \"Topic4\", \"Topic4\", \"Topic4\", \"Topic4\", \"Topic4\", \"Topic4\", \"Topic4\", \"Topic4\", \"Topic4\", \"Topic4\", \"Topic4\", \"Topic4\", \"Topic4\", \"Topic4\", \"Topic4\", \"Topic4\", \"Topic4\", \"Topic4\", \"Topic4\", \"Topic4\", \"Topic4\", \"Topic4\", \"Topic4\", \"Topic4\", \"Topic4\", \"Topic4\", \"Topic4\", \"Topic4\", \"Topic4\", \"Topic4\", \"Topic4\", \"Topic5\", \"Topic5\", \"Topic5\", \"Topic5\", \"Topic5\", \"Topic5\", \"Topic5\", \"Topic5\", \"Topic5\", \"Topic5\", \"Topic5\", \"Topic5\", \"Topic5\", \"Topic5\", \"Topic5\", \"Topic5\", \"Topic5\", \"Topic5\", \"Topic5\", \"Topic5\", \"Topic5\", \"Topic5\", \"Topic5\", \"Topic5\", \"Topic5\", \"Topic5\", \"Topic5\", \"Topic5\", \"Topic5\", \"Topic5\", \"Topic5\", \"Topic5\", \"Topic5\", \"Topic5\", \"Topic5\", \"Topic5\", \"Topic5\", \"Topic5\", \"Topic5\", \"Topic5\", \"Topic5\", \"Topic5\", \"Topic5\", \"Topic5\", \"Topic5\", \"Topic5\", \"Topic5\", \"Topic6\", \"Topic6\", \"Topic6\", \"Topic6\", \"Topic6\", \"Topic6\", \"Topic6\", \"Topic6\", \"Topic6\", \"Topic6\", \"Topic6\", \"Topic6\", \"Topic6\", \"Topic6\", \"Topic6\", \"Topic6\", \"Topic6\", \"Topic6\", \"Topic6\", \"Topic6\", \"Topic6\", \"Topic6\", \"Topic6\", \"Topic6\", \"Topic6\", \"Topic6\", \"Topic6\", \"Topic6\", \"Topic6\", \"Topic6\", \"Topic6\", \"Topic6\", \"Topic6\", \"Topic6\", \"Topic6\", \"Topic6\", \"Topic6\", \"Topic6\", \"Topic6\", \"Topic6\", \"Topic7\", \"Topic7\", \"Topic7\", \"Topic7\", \"Topic7\", \"Topic7\", \"Topic7\", \"Topic7\", \"Topic7\", \"Topic7\", \"Topic7\", \"Topic7\", \"Topic7\", \"Topic7\", \"Topic7\", \"Topic7\", \"Topic7\", \"Topic7\", \"Topic7\", \"Topic7\", \"Topic7\", \"Topic7\", \"Topic7\", \"Topic7\", \"Topic7\", \"Topic7\", \"Topic7\", \"Topic7\", \"Topic7\", \"Topic7\", \"Topic7\", \"Topic7\", \"Topic7\", \"Topic7\", \"Topic7\", \"Topic7\", \"Topic7\", \"Topic7\", \"Topic7\", \"Topic7\", \"Topic7\", \"Topic7\", \"Topic7\", \"Topic7\", \"Topic8\", \"Topic8\", \"Topic8\", \"Topic8\", \"Topic8\", \"Topic8\", \"Topic8\", \"Topic8\", \"Topic8\", \"Topic8\", \"Topic8\", \"Topic8\", \"Topic8\", \"Topic8\", \"Topic8\", \"Topic8\", \"Topic8\", \"Topic8\", \"Topic8\", \"Topic8\", \"Topic8\", \"Topic8\", \"Topic8\", \"Topic8\", \"Topic8\", \"Topic8\", \"Topic8\", \"Topic8\", \"Topic8\", \"Topic8\", \"Topic8\", \"Topic8\", \"Topic8\", \"Topic8\", \"Topic8\", \"Topic8\", \"Topic8\", \"Topic8\", \"Topic8\", \"Topic8\", \"Topic8\", \"Topic8\", \"Topic8\", \"Topic8\", \"Topic8\", \"Topic8\", \"Topic8\", \"Topic8\", \"Topic8\"], \"logprob\": [30.0, 29.0, 28.0, 27.0, 26.0, 25.0, 24.0, 23.0, 22.0, 21.0, 20.0, 19.0, 18.0, 17.0, 16.0, 15.0, 14.0, 13.0, 12.0, 11.0, 10.0, 9.0, 8.0, 7.0, 6.0, 5.0, 4.0, 3.0, 2.0, 1.0, -5.3838, -5.6122, -5.7737, -5.9456, -5.7737, -5.7649, -5.7652, -5.7737, -5.7649, -6.1529, -6.1533, -6.1614, -6.1529, -6.1529, -6.1614, -5.7739, -5.9352, -5.6122, -6.4153, -6.4153, -6.4153, -6.4153, -6.4153, -6.4153, -6.4153, -6.4153, -6.4153, -6.4153, -6.4153, -6.4153, -6.1529, -5.4861, -6.1529, -5.7975, -5.9352, -6.1529, -6.1533, -6.1883, -6.1529, -6.1658, -5.7795, -6.1529, -5.9352, -6.1529, -6.1529, -6.1529, -6.1529, -5.0664, -5.4648, -5.9074, -5.9074, -5.9079, -5.5917, -5.9074, -5.9178, -5.5847, -5.7457, -6.1252, -6.1252, -6.1252, -6.1252, -6.1252, -6.1377, -5.755, -6.1255, -6.1252, -5.9277, -6.1381, -6.1389, -6.3875, -6.3875, -6.3875, -6.3875, -6.3875, -6.3875, -6.3875, -6.3875, -5.4604, -5.9175, -6.1252, -5.6767, -6.1291, -6.1252, -6.1252, -5.7372, -5.9182, -5.9175, -5.9107, -5.9074, -6.1252, -6.1252, -6.1252, -5.336, -5.5808, -5.4577, -5.8973, -5.8973, -5.8961, -5.8961, -5.8961, -6.1138, -6.1138, -6.1138, -6.1142, -6.1138, -6.1156, -5.2292, -6.1138, -6.1267, -6.1138, -6.1138, -6.135, -6.3762, -6.3762, -6.3762, -6.3762, -6.3762, -6.3762, -6.3762, -6.3762, -6.3762, -6.3762, -5.7346, -6.1138, -6.1589, -6.1146, -5.7258, -6.1146, -5.8961, -6.1138, -6.1223, -6.1138, -6.1138, -6.1138, -5.7081, -5.9084, -6.0874, -6.0877, -5.8902, -5.9098, -6.0874, -6.3497, -6.3497, -6.3497, -6.3497, -6.3497, -6.3497, -6.3497, -6.3497, -6.3497, -6.3497, -6.3497, -6.3497, -6.3497, -6.3497, -6.3497, -6.3497, -6.3497, -6.3497, -6.3497, -6.3497, -6.3497, -6.3497, -6.3497, -6.0999, -5.8812, -6.0999, -6.0874, -6.0874, -6.1049, -6.0999, -6.0874, -6.3497, -6.3497, -6.3497, -6.3497, -6.3497, -6.3497, -6.3497, -6.3497, -5.6785, -5.8407, -5.525, -5.8407, -6.058, -5.6702, -5.8506, -5.6704, -6.0731, -5.6704, -6.0713, -6.3204, -6.3204, -6.3204, -6.3204, -6.3204, -6.3204, -6.3204, -6.3204, -6.3204, -6.3204, -6.3204, -6.3204, -6.3204, -6.3204, -6.3204, -6.3204, -6.3204, -6.3204, -6.3204, -5.8504, -5.8403, -6.058, -6.0583, -5.8506, -5.8504, -6.0723, -6.3204, -6.3204, -6.3204, -6.3204, -6.3204, -6.3204, -6.3204, -6.3204, -6.3204, -6.3204, -5.5386, -5.4044, -5.6765, -6.0642, -6.0642, -6.0646, -6.0646, -6.0646, -6.0682, -6.0727, -6.0779, -6.0779, -5.8635, -5.8465, -5.1885, -6.0779, -5.8465, -6.065, -6.3266, -6.3266, -6.3266, -6.3266, -6.3266, -6.3266, -6.3266, -6.3266, -6.3266, -6.3266, -6.3266, -6.3266, -5.6762, -6.0642, -5.3974, -5.682, -6.0779, -6.0682, -5.8566, -6.0642, -6.3266, -6.3266, -5.6814, -5.681, -5.851, -5.851, -5.851, -5.528, -5.851, -6.0687, -6.0687, -5.851, -5.8617, -5.681, -6.0695, -6.0687, -6.3311, -6.3311, -6.3311, -6.3311, -6.3311, -6.3311, -6.3311, -6.3311, -6.3311, -6.3311, -6.3311, -6.3311, -6.3311, -6.3311, -6.3311, -6.3311, -5.851, -6.0698, -6.0687, -6.0813, -6.2869, -6.3311, -6.3311, -6.3311, -6.3311, -6.3311, -6.3311, -6.3311, -6.3311, -6.3311, -5.269, -5.381, -5.8299, -6.0476, -6.0476, -6.0484, -6.0484, -6.0484, -6.3099, -6.3099, -6.3099, -6.3099, -6.3099, -6.3099, -6.3099, -6.3099, -6.3099, -6.3099, -6.3099, -6.3099, -6.3099, -6.3099, -6.3099, -6.3099, -6.3099, -6.3099, -6.3099, -6.3099, -6.3099, -6.3099, -5.269, -6.0476, -6.0476, -6.0476, -6.0476, -5.8501, -6.0476, -6.0484, -6.0476, -6.3095, -6.3095, -6.3099, -6.3099, -6.3099, -6.3099, -6.3099, -6.3099, -6.3099, -6.3099], \"loglift\": [30.0, 29.0, 28.0, 27.0, 26.0, 25.0, 24.0, 23.0, 22.0, 21.0, 20.0, 19.0, 18.0, 17.0, 16.0, 15.0, 14.0, 13.0, 12.0, 11.0, 10.0, 9.0, 8.0, 7.0, 6.0, 5.0, 4.0, 3.0, 2.0, 1.0, 1.1415, 1.1042, 1.0725, 0.9775, 0.9701, 0.9678, 0.942, 0.9109, 0.8847, 0.8535, 0.8532, 0.8461, 0.7916, 0.7783, 0.772, 0.7001, 0.6998, 0.6936, 0.6821, 0.6821, 0.6821, 0.6821, 0.6821, 0.6821, 0.6821, 0.6821, 0.6821, 0.6821, 0.6821, 0.6821, 0.6683, 0.6278, 0.6634, 0.6068, 0.6207, 0.6425, 0.6374, 0.5918, 0.5642, 0.5647, 0.3768, 0.5518, 0.3687, 0.4928, 0.452, 0.2862, -0.1149, 1.4302, 1.2609, 1.0264, 1.0264, 1.026, 0.9922, 0.9745, 0.9681, 0.9484, 0.9408, 0.8934, 0.8934, 0.8934, 0.8934, 0.8934, 0.8854, 0.8801, 0.8367, 0.8329, 0.7801, 0.7721, 0.7216, 0.7188, 0.7188, 0.7188, 0.7188, 0.7188, 0.7188, 0.7188, 0.7188, 0.7028, 0.7082, 0.6408, 0.5048, 0.6288, 0.6223, 0.5895, 0.3767, 0.4516, 0.4255, 0.2456, 0.1306, 0.5782, 0.2791, 0.4265, 1.2527, 1.2396, 1.1281, 1.0599, 1.0599, 0.9893, 0.9893, 0.9851, 0.9236, 0.9236, 0.9236, 0.9233, 0.8662, 0.8557, 0.8088, 0.792, 0.7564, 0.7546, 0.7546, 0.7446, 0.7439, 0.7439, 0.7439, 0.7439, 0.7439, 0.7439, 0.7439, 0.7439, 0.7439, 0.7439, 0.7373, 0.7227, 0.7151, 0.6809, 0.58, 0.6156, 0.4737, 0.5617, 0.5127, 0.0677, 0.0494, 0.0425, 1.0693, 0.9674, 0.9462, 0.9458, 0.9194, 0.9055, 0.8644, 0.7675, 0.7675, 0.7675, 0.7675, 0.7675, 0.7675, 0.7675, 0.7675, 0.7675, 0.7675, 0.7675, 0.7675, 0.7675, 0.7675, 0.7675, 0.7675, 0.7675, 0.7675, 0.7675, 0.7675, 0.7675, 0.7675, 0.7675, 0.7162, 0.4228, 0.5259, 0.4758, 0.3845, 0.2648, 0.2432, 0.0942, 0.7055, 0.5767, 0.6789, 0.696, 0.7009, 0.701, 0.5292, 0.2019, 1.1856, 1.1585, 1.09, 1.048, 0.9495, 0.9347, 0.9318, 0.9079, 0.883, 0.856, 0.8365, 0.8243, 0.8243, 0.8243, 0.8243, 0.8243, 0.8243, 0.8243, 0.8243, 0.8243, 0.8243, 0.8243, 0.8243, 0.8243, 0.8243, 0.8243, 0.8243, 0.8243, 0.8243, 0.8243, 0.79, 0.6929, 0.704, 0.6511, 0.4552, 0.3059, 0.362, 0.5563, 0.6975, 0.6576, 0.1537, 0.4968, 0.6592, -0.1388, 0.587, 0.6327, 0.7559, 1.3532, 1.1316, 1.1298, 1.0151, 1.0151, 1.0147, 1.0147, 1.0147, 1.0111, 1.0065, 1.005, 1.005, 1.0027, 0.9981, 0.9748, 0.9406, 0.8856, 0.866, 0.8239, 0.8239, 0.8239, 0.8239, 0.8239, 0.8239, 0.8239, 0.8239, 0.8239, 0.8239, 0.8239, 0.8239, 0.7628, 0.7825, 0.6406, 0.4743, 0.6651, 0.5775, 0.325, 0.4989, 0.6964, 0.6964, 1.2177, 1.2159, 1.1678, 1.1678, 1.1678, 1.0611, 1.0385, 1.0181, 1.0181, 1.0046, 0.9938, 0.9741, 0.9359, 0.8577, 0.8248, 0.8248, 0.8248, 0.8248, 0.8248, 0.8248, 0.8248, 0.8248, 0.8248, 0.8248, 0.8248, 0.8248, 0.8248, 0.8248, 0.8248, 0.8248, 0.5833, 0.6862, 0.6734, 0.4818, 0.4932, 0.7506, 0.68, 0.6605, 0.012, -0.2931, 0.2472, 0.5394, 0.108, 0.622, 1.5532, 1.4901, 1.0562, 1.0536, 1.0536, 1.0528, 0.918, 0.8927, 0.8563, 0.8563, 0.8563, 0.8563, 0.8563, 0.8563, 0.8563, 0.8563, 0.8563, 0.8563, 0.8563, 0.8563, 0.8563, 0.8563, 0.8563, 0.8563, 0.8563, 0.8563, 0.8563, 0.8563, 0.8563, 0.8563, 0.8449, 0.8081, 0.7711, 0.6998, 0.6695, 0.4538, 0.5928, 0.4877, 0.4777, 0.6007, 0.4211, 0.0943, 0.7686, 0.5931, 0.5619, 0.5787, 0.6863, 0.6863, 0.6863]}, \"token.table\": {\"Topic\": [6, 3, 4, 2, 4, 1, 3, 4, 6, 5, 4, 3, 4, 6, 2, 7, 2, 2, 3, 1, 1, 2, 4, 2, 4, 3, 1, 7, 4, 1, 7, 2, 3, 1, 2, 4, 3, 4, 2, 2, 3, 7, 1, 4, 3, 4, 2, 4, 2, 4, 1, 5, 1, 2, 3, 4, 6, 3, 2, 6, 1, 3, 1, 3, 4, 5, 6, 2, 3, 2, 3, 4, 4, 1, 3, 1, 2, 1, 5, 2, 8, 4, 1, 6, 1, 4, 5, 2, 3, 4, 6, 1, 2, 2, 6, 1, 2, 3, 1, 4, 3, 4, 3, 3, 2, 4, 6, 2, 4, 1, 4, 1, 4, 1, 7, 4, 1, 6, 3, 1, 2, 3, 5, 6, 2, 5, 1, 4, 6, 7, 4, 7, 3, 4, 1, 2, 3, 6, 2, 3, 2, 7, 5, 1, 2, 2, 1, 3, 4, 6, 1, 1, 3, 1, 2, 3, 5, 7, 2, 2, 2, 4, 7, 4, 4, 1, 1, 2, 1, 4, 2, 2, 3, 4, 3, 4, 1, 5, 3, 4, 1, 2, 4, 1, 3, 5, 4, 1, 3, 1, 6, 4, 1, 1, 1, 1, 2, 3, 2, 5, 3, 3, 4, 1, 2, 6, 2, 3, 2, 2, 3, 2, 2, 2, 1, 2, 4, 8, 1, 4, 4, 3, 8, 1, 2, 3, 6, 1, 7, 3, 2, 5, 2, 3, 7, 2, 8, 4, 3, 1, 3, 3, 1, 1, 2, 6, 1, 4, 5, 4, 7, 1, 3, 7, 4, 4, 6, 3, 2, 4, 7, 7, 3, 4, 3, 4, 4, 2, 6, 1, 5, 5, 1, 2, 7, 1, 4, 1, 3, 1, 4, 2, 3, 3, 4, 4, 6, 4, 7, 6, 1, 4, 6, 2, 3, 4, 6, 5, 2, 3, 3, 5, 1, 1, 2, 8, 1, 4, 3, 4, 1, 3, 3, 1, 6], \"Freq\": [0.5500718101980581, 0.33555723444694213, 0.33555723444694213, 0.5630823902028316, 0.5692732153454242, 0.4106489187026934, 0.4106489187026934, 0.4171445611991386, 0.4171445611991386, 0.4419496864432642, 0.5692731822277173, 0.3873282245001228, 0.3873282245001228, 0.3873282245001228, 0.44989563898273616, 0.4576878086304686, 0.4855209600625166, 0.3763523897563767, 0.3763523897563767, 0.5101136398636562, 0.2624843037862026, 0.2624843037862026, 0.2624843037862026, 0.5158052467647776, 0.4615108986024001, 0.5709017178206549, 0.4381771040712368, 0.4381771040712368, 0.5235566864919167, 0.509578963828543, 0.5158784935240698, 0.4504741418771257, 0.4504741418771257, 0.3247244081418705, 0.3247244081418705, 0.3247244081418705, 0.50439154103194, 0.5692731932669525, 0.5158053067005303, 0.38063035165644094, 0.38063035165644094, 0.5158784935240698, 0.29920652899841493, 0.29920652899841493, 0.5709017178206549, 0.5692731822277173, 0.4517003216200782, 0.5692731822277173, 0.4185203561262591, 0.4185203561262591, 0.3410500604828341, 0.3410500604828341, 0.22333521910290868, 0.22333521910290868, 0.22333521910290868, 0.22333521910290868, 0.22333521910290868, 0.5256023659738592, 0.5158053067005303, 0.5480753106078899, 0.5580617105800205, 0.49628080605148994, 0.44387997844466437, 0.44387997844466437, 0.4072975195073593, 0.4072975195073593, 0.5480732827938399, 0.5630823902028316, 0.4230960370072288, 0.26958270787227645, 0.26958270787227645, 0.26958270787227645, 0.5692732153454242, 0.4126391489079849, 0.4126391489079849, 0.2790481689319446, 0.2790481689319446, 0.3533578339605794, 0.3533578339605794, 0.4223379713823189, 0.4450245611145623, 0.5692731822277173, 0.4334501724582871, 0.4334501724582871, 0.3445119684667894, 0.3445119684667894, 0.3445119684667894, 0.34823752390903095, 0.34823752390903095, 0.34823752390903095, 0.47254834443251553, 0.473650249014188, 0.5630823902028316, 0.3915656273542766, 0.3915656273542766, 0.37776918000154475, 0.37776918000154475, 0.5256105284759948, 0.45950771647133365, 0.5692732153454242, 0.4773044458803047, 0.5326081442981422, 0.4299576144130958, 0.5709016841636915, 0.4627901059451849, 0.5692732153454242, 0.5157639240089619, 0.5158052667433602, 0.5692732153454242, 0.3693226567328135, 0.44712809914150875, 0.5580617105800205, 0.5692731491100143, 0.40634260309064935, 0.43823793250664667, 0.521001155294577, 0.5580617357732359, 0.548020525305531, 0.45146661493084644, 0.21776004430932763, 0.21776004430932763, 0.21776004430932763, 0.21776004430932763, 0.21776004430932763, 0.33208734414834207, 0.33208734414834207, 0.4341181379277121, 0.32708786190079614, 0.32708786190079614, 0.32708786190079614, 0.5692731822277173, 0.5090414507279649, 0.5709017178206549, 0.42123312244888594, 0.21928565352157897, 0.21928565352157897, 0.21928565352157897, 0.21928565352157897, 0.44884066594447003, 0.44884066594447003, 0.48753365020141093, 0.5521945074861829, 0.48456160338666004, 0.5580617357732359, 0.40064588132365114, 0.6121335719121198, 0.4234065687723457, 0.50439154103194, 0.44285712627494667, 0.44285712627494667, 0.4213374751957712, 0.5580617105800205, 0.4608080395041046, 0.2875606278832248, 0.2875606278832248, 0.2875606278832248, 0.2875606278832248, 0.2875606278832248, 0.5630823544896723, 0.3848171637236883, 0.5630823902028316, 0.3911928072869655, 0.3911928072869655, 0.5692731932669525, 0.5692731822277173, 0.3875419633420566, 0.3515264993837835, 0.3515264993837835, 0.5580617357732359, 0.48244969680858835, 0.5630823902028316, 0.4463664982685341, 0.4463664982685341, 0.4454015350080009, 0.49525380412480824, 0.5350269804498314, 0.3990677440428206, 0.3990677440428206, 0.5709016841636915, 0.5692732153454242, 0.3233537487058911, 0.3233537487058911, 0.3233537487058911, 0.25288260139447793, 0.25288260139447793, 0.25288260139447793, 0.5692731822277173, 0.5095612551618931, 0.3865548613875891, 0.5580617105800205, 0.5480753106078899, 0.5692731822277173, 0.5580617105800205, 0.3918633923383297, 0.5580617105800205, 0.5580617357732359, 0.33397047206890096, 0.33397047206890096, 0.3786346968538266, 0.3786346968538266, 0.45146661507655816, 0.4850961970635538, 0.49606095089952046, 0.28893704220884037, 0.28893704220884037, 0.28893704220884037, 0.4738725368268549, 0.50439154103194, 0.4738664863300934, 0.39329109064235246, 0.5709017178206549, 0.4738664526064023, 0.5630823902028316, 0.5630823902028316, 0.252403548220626, 0.252403548220626, 0.252403548220626, 0.252403548220626, 0.6298812480587271, 0.5692731822277173, 0.5235603392467421, 0.4517579379089841, 0.4517579379089841, 0.19346939881006178, 0.19346939881006178, 0.38693879762012356, 0.19346939881006178, 0.5580617105800205, 0.5158784373907473, 0.4850961970635538, 0.3174310224227352, 0.3174310224227352, 0.33459901057748326, 0.33459901057748326, 0.45668860775498193, 0.3700471423368725, 0.42381482031383394, 0.5692732153454242, 0.5256105284759948, 0.4789612804007302, 0.5256105284759948, 0.44956140218604956, 0.4688231184405567, 0.3566451125137266, 0.3183511729011925, 0.3183511729011925, 0.3152928847288145, 0.3152928847288145, 0.3152928847288145, 0.5692731822277173, 0.3585826362017508, 0.3659998248438283, 0.3659998248438283, 0.3966746130965733, 0.5692731932669525, 0.532595302766769, 0.5480753106078899, 0.4919807744661535, 0.33570068976018397, 0.33570068976018397, 0.33570068976018397, 0.4533106423833036, 0.42091962866995264, 0.42091962866995264, 0.5709016841636915, 0.5692732153454242, 0.5692731491100143, 0.5158052467647776, 0.5480487407646697, 0.38671346315804106, 0.5101140801905542, 0.4617378913672878, 0.4403793922276768, 0.4403793922276768, 0.5521944592501769, 0.5580617105800205, 0.5299776648632132, 0.35147781098623687, 0.35147781098623687, 0.3815456548177612, 0.3815456548177612, 0.39744427660223725, 0.39744427660223725, 0.4485681937668021, 0.4485681937668021, 0.40526055504423436, 0.5500718163173042, 0.4703718745101999, 0.4703718745101999, 0.5480732827938399, 0.3552393194624575, 0.3552393194624575, 0.3552393194624575, 0.5181584827360758, 0.5709016841636915, 0.43433877946991306, 0.43433877946991306, 0.5058634854101133, 0.378016823647158, 0.378016823647158, 0.5709016841636915, 0.4529452921020001, 0.4726284804310232, 0.20871589237593943, 0.20871589237593943, 0.20871589237593943, 0.3768637945767819, 0.3768637945767819, 0.2985649595598357, 0.2985649595598357, 0.4438801617386692, 0.4438801617386692, 0.5709016841636915, 0.3812654411826561, 0.4543741645528302], \"Term\": [\"aboriginal\", \"action\", \"action\", \"adelaide\", \"adventure\", \"ahead\", \"ahead\", \"aid\", \"aid\", \"air\", \"alive\", \"appeal\", \"appeal\", \"appeal\", \"area\", \"arsenal\", \"asylum\", \"aust\", \"aust\", \"aware\", \"back\", \"back\", \"back\", \"bay\", \"begin\", \"benefit\", \"bid\", \"bid\", \"bill\", \"blend\", \"brawl\", \"break\", \"break\", \"british\", \"british\", \"british\", \"brothel\", \"burmese\", \"burn\", \"bushfire\", \"bushfire\", \"cairn\", \"call\", \"call\", \"cannabis\", \"cattle\", \"cause\", \"challenge\", \"change\", \"change\", \"charge\", \"charge\", \"claim\", \"claim\", \"claim\", \"claim\", \"claim\", \"class\", \"climb\", \"closure\", \"cocktail\", \"community\", \"compo\", \"compo\", \"concern\", \"concern\", \"confidence\", \"conservation\", \"consider\", \"continue\", \"continue\", \"continue\", \"conviction\", \"cost\", \"cost\", \"court\", \"court\", \"crash\", \"crash\", \"crime\", \"criticism\", \"crown\", \"danger\", \"danger\", \"day\", \"day\", \"day\", \"death\", \"death\", \"death\", \"decision\", \"defamation\", \"defaulter\", \"defend\", \"defend\", \"deny\", \"deny\", \"deposit\", \"detention\", \"disunity\", \"draw\", \"dream\", \"drought\", \"edge\", \"education\", \"election\", \"embassy\", \"emergency\", \"enterprise\", \"ethanol\", \"expect\", \"expert\", \"export\", \"face\", \"federal\", \"feeling\", \"fiance\", \"fight\", \"find\", \"fire\", \"fire\", \"fire\", \"fire\", \"fire\", \"force\", \"force\", \"fuel\", \"fund\", \"fund\", \"fund\", \"gauge\", \"get\", \"glenelg\", \"go\", \"govt\", \"govt\", \"govt\", \"govt\", \"group\", \"group\", \"grow\", \"growth\", \"head\", \"hear\", \"help\", \"high\", \"hijack\", \"hire\", \"hold\", \"hold\", \"hospital\", \"hotel\", \"industry\", \"injure\", \"injure\", \"injure\", \"injure\", \"injure\", \"inventory\", \"investigation\", \"island\", \"jail\", \"jail\", \"kayaker\", \"keep\", \"kill\", \"korean\", \"korean\", \"labor\", \"land\", \"landing\", \"launch\", \"launch\", \"lawyer\", \"list\", \"live\", \"lose\", \"lose\", \"lower\", \"magic\", \"make\", \"make\", \"make\", \"man\", \"man\", \"man\", \"march\", \"maroney\", \"meeting\", \"melb\", \"mill\", \"mine\", \"minimal\", \"miss\", \"molotov\", \"motorist\", \"move\", \"move\", \"murder\", \"murder\", \"nat\", \"nation\", \"national\", \"new\", \"new\", \"new\", \"oil\", \"owner\", \"park\", \"pay\", \"payout\", \"petrol\", \"pilot\", \"piracy\", \"plan\", \"plan\", \"plan\", \"plan\", \"plane\", \"play\", \"player\", \"pm\", \"pm\", \"police\", \"police\", \"police\", \"police\", \"pose\", \"power\", \"pre\", \"price\", \"price\", \"probe\", \"probe\", \"profit\", \"protect\", \"protester\", \"pudding\", \"push\", \"put\", \"qld\", \"question\", \"quit\", \"race\", \"raid\", \"raid\", \"rain\", \"rain\", \"rain\", \"rating\", \"record\", \"remain\", \"remain\", \"report\", \"rescue\", \"result\", \"rice\", \"river\", \"rule\", \"rule\", \"rule\", \"scrap\", \"second\", \"second\", \"selection\", \"sept\", \"sheep\", \"soldier\", \"stand\", \"still\", \"stock\", \"strike\", \"subway\", \"subway\", \"supply\", \"suspect\", \"taipan\", \"take\", \"take\", \"talk\", \"talk\", \"target\", \"target\", \"tas\", \"tas\", \"tell\", \"tent\", \"threaten\", \"threaten\", \"tree\", \"trial\", \"trial\", \"trial\", \"underway\", \"unemployment\", \"union\", \"union\", \"upset\", \"urge\", \"urge\", \"user\", \"visit\", \"vow\", \"war\", \"war\", \"war\", \"water\", \"water\", \"win\", \"win\", \"wine\", \"wine\", \"winemaker\", \"woman\", \"work\"]}, \"R\": 30, \"lambda.step\": 0.01, \"plot.opts\": {\"xlab\": \"PC1\", \"ylab\": \"PC2\"}, \"topic.order\": [5, 1, 6, 8, 3, 4, 2, 7]};\n",
       "\n",
       "function LDAvis_load_lib(url, callback){\n",
       "  var s = document.createElement('script');\n",
       "  s.src = url;\n",
       "  s.async = true;\n",
       "  s.onreadystatechange = s.onload = callback;\n",
       "  s.onerror = function(){console.warn(\"failed to load library \" + url);};\n",
       "  document.getElementsByTagName(\"head\")[0].appendChild(s);\n",
       "}\n",
       "\n",
       "if(typeof(LDAvis) !== \"undefined\"){\n",
       "   // already loaded: just create the visualization\n",
       "   !function(LDAvis){\n",
       "       new LDAvis(\"#\" + \"ldavis_el212022932981812809380969130\", ldavis_el212022932981812809380969130_data);\n",
       "   }(LDAvis);\n",
       "}else if(typeof define === \"function\" && define.amd){\n",
       "   // require.js is available: use it to load d3/LDAvis\n",
       "   require.config({paths: {d3: \"https://d3js.org/d3.v5\"}});\n",
       "   require([\"d3\"], function(d3){\n",
       "      window.d3 = d3;\n",
       "      LDAvis_load_lib(\"https://cdn.jsdelivr.net/gh/bmabey/pyLDAvis@3.3.1/pyLDAvis/js/ldavis.v3.0.0.js\", function(){\n",
       "        new LDAvis(\"#\" + \"ldavis_el212022932981812809380969130\", ldavis_el212022932981812809380969130_data);\n",
       "      });\n",
       "    });\n",
       "}else{\n",
       "    // require.js not available: dynamically load d3 & LDAvis\n",
       "    LDAvis_load_lib(\"https://d3js.org/d3.v5.js\", function(){\n",
       "         LDAvis_load_lib(\"https://cdn.jsdelivr.net/gh/bmabey/pyLDAvis@3.3.1/pyLDAvis/js/ldavis.v3.0.0.js\", function(){\n",
       "                 new LDAvis(\"#\" + \"ldavis_el212022932981812809380969130\", ldavis_el212022932981812809380969130_data);\n",
       "            })\n",
       "         });\n",
       "}\n",
       "</script>"
      ],
      "text/plain": [
       "PreparedData(topic_coordinates=              x         y  topics  cluster       Freq\n",
       "topic                                                \n",
       "4     -0.018202 -0.021619       1        1  16.040598\n",
       "0      0.021616 -0.009378       2        1  14.889996\n",
       "5      0.010821 -0.003027       3        1  13.650936\n",
       "7     -0.004408  0.011102       4        1  13.509179\n",
       "2     -0.002368  0.001405       5        1  11.141571\n",
       "3      0.004256  0.003070       6        1  10.792965\n",
       "1     -0.007017  0.013877       7        1  10.456043\n",
       "6     -0.004697  0.004570       8        1   9.518713, topic_info=           Term      Freq     Total Category  logprob  loglift\n",
       "635        high  3.000000  3.000000  Default  30.0000  30.0000\n",
       "168        govt  4.000000  4.000000  Default  29.0000  29.0000\n",
       "348   protester  2.000000  2.000000  Default  28.0000  28.0000\n",
       "41          war  4.000000  4.000000  Default  27.0000  27.0000\n",
       "244      police  5.000000  5.000000  Default  26.0000  26.0000\n",
       "...         ...       ...       ...      ...      ...      ...\n",
       "874      lawyer  0.374854  2.245165   Topic8  -6.3099   0.5619\n",
       "876       visit  0.374854  2.207772   Topic8  -6.3099   0.5787\n",
       "1169    brothel  0.374854  1.982587   Topic8  -6.3099   0.6863\n",
       "1170       hire  0.374854  1.982587   Topic8  -6.3099   0.6863\n",
       "1171      owner  0.374854  1.982587   Topic8  -6.3099   0.6863\n",
       "\n",
       "[390 rows x 6 columns], token_table=      Topic      Freq        Term\n",
       "term                             \n",
       "326       6  0.550072  aboriginal\n",
       "523       3  0.335557      action\n",
       "523       4  0.335557      action\n",
       "967       2  0.563082    adelaide\n",
       "861       4  0.569273   adventure\n",
       "...     ...       ...         ...\n",
       "625       1  0.443880        wine\n",
       "625       3  0.443880        wine\n",
       "1117      3  0.570902   winemaker\n",
       "367       1  0.381265       woman\n",
       "216       6  0.454374        work\n",
       "\n",
       "[315 rows x 3 columns], R=30, lambda_step=0.01, plot_opts={'xlab': 'PC1', 'ylab': 'PC2'}, topic_order=[5, 1, 6, 8, 3, 4, 2, 7])"
      ]
     },
     "execution_count": 25,
     "metadata": {},
     "output_type": "execute_result"
    }
   ],
   "source": [
    "import pyLDAvis.gensim_models as gensimvis\n",
    "import pickle \n",
    "import pyLDAvis\n",
    "\n",
    "# Visualize the topics\n",
    "pyLDAvis.enable_notebook()\n",
    "\n",
    "LDAvis_data_filepath = os.path.join('D:/ds/ds/S3/NLP_LDA/result/ldavis_tuned_'+str(num_topics))\n",
    "\n",
    "# # this is a bit time consuming - make the if statement True\n",
    "# # if you want to execute visualization prep yourself\n",
    "if 1 == 1:\n",
    "    LDAvis_prepared = gensimvis.prepare(lda_model, corpus, id2word)\n",
    "    with open(LDAvis_data_filepath, 'wb') as f:\n",
    "        pickle.dump(LDAvis_prepared, f)\n",
    "\n",
    "# load the pre-prepared pyLDAvis data from disk\n",
    "with open(LDAvis_data_filepath, 'rb') as f:\n",
    "    LDAvis_prepared = pickle.load(f)\n",
    "\n",
    "pyLDAvis.save_html(LDAvis_prepared, 'D:/ds/ds/S3/NLP_LDA/result/ldavis_tuned_'+ str(num_topics) +'.html')\n",
    "\n",
    "LDAvis_prepared"
   ]
  }
 ],
 "metadata": {
  "kernelspec": {
   "display_name": "Python 3",
   "language": "python",
   "name": "python3"
  },
  "language_info": {
   "codemirror_mode": {
    "name": "ipython",
    "version": 3
   },
   "file_extension": ".py",
   "mimetype": "text/x-python",
   "name": "python",
   "nbconvert_exporter": "python",
   "pygments_lexer": "ipython3",
   "version": "3.9.4"
  },
  "orig_nbformat": 4,
  "vscode": {
   "interpreter": {
    "hash": "501834c540f8b330c04c1d43ec1666643355d13f80c9caf7e1080236b3fb263f"
   }
  }
 },
 "nbformat": 4,
 "nbformat_minor": 2
}
